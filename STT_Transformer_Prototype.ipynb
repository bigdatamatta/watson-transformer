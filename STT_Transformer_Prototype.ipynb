{
 "cells": [
  {
   "cell_type": "markdown",
   "metadata": {},
   "source": [
    "## STT Transformer Protoype \n",
    "prototype desing of wrapping Watson STT to pySpark transformer\n",
    "* api-key: dsc9p5YcmgSC7w93vadmN9QtHJpBNBmLbFtelcL5Fh3G\n",
    "* endpoint: https://stream.watsonplatform.net/speech-to-text/api"
   ]
  },
  {
   "cell_type": "markdown",
   "metadata": {},
   "source": [
    "### Test STT Package"
   ]
  },
  {
   "cell_type": "code",
   "execution_count": 3,
   "metadata": {},
   "outputs": [],
   "source": [
    "import json\n",
    "from ibm_watson import SpeechToTextV1\n",
    "from ibm_cloud_sdk_core.authenticators import IAMAuthenticator"
   ]
  },
  {
   "cell_type": "code",
   "execution_count": 7,
   "metadata": {},
   "outputs": [],
   "source": [
    "api_key = 'dsc9p5YcmgSC7w93vadmN9QtHJpBNBmLbFtelcL5Fh3G'\n",
    "end_point = 'https://stream.watsonplatform.net/speech-to-text/api'"
   ]
  },
  {
   "cell_type": "markdown",
   "metadata": {},
   "source": [
    "#### Test Connection"
   ]
  },
  {
   "cell_type": "code",
   "execution_count": 18,
   "metadata": {
    "scrolled": false
   },
   "outputs": [
    {
     "name": "stdout",
     "output_type": "stream",
     "text": [
      "es-CO_NarrowbandModel\n",
      "nl-NL_NarrowbandModel\n",
      "es-PE_NarrowbandModel\n",
      "es-ES_NarrowbandModel\n",
      "es-ES_BroadbandModel\n"
     ]
    }
   ],
   "source": [
    "authenticator = IAMAuthenticator(api_key)\n",
    "stt = SpeechToTextV1(\n",
    "    authenticator=authenticator\n",
    ")\n",
    "\n",
    "stt.set_service_url(end_point)\n",
    "\n",
    "speech_models = speech_to_text.list_models().get_result()\n",
    "for model in speech_models['models'][:5]:\n",
    "    print(model['name'])"
   ]
  },
  {
   "cell_type": "markdown",
   "metadata": {},
   "source": [
    "#### Test sample data\n",
    "* API:  \n",
    "recognize(self, audio, content_type=None, model=None, language_customization_id=None, acoustic_customization_id=None, base_model_version=None, customization_weight=None, inactivity_timeout=None, keywords=None, keywords_threshold=None, max_alternatives=None, word_alternatives_threshold=None, word_confidence=None, timestamps=None, profanity_filter=None, smart_formatting=None, speaker_labels=None, customization_id=None, grammar_name=None, redaction=None, audio_metrics=None, end_of_phrase_silence_time=None, split_transcript_at_phrase_end=None, speech_detector_sensitivity=None, background_audio_suppression=None, **kwargs)\n",
    "* docu: https://cloud.ibm.com/apidocs/speech-to-text?code=python#recognize-audio"
   ]
  },
  {
   "cell_type": "code",
   "execution_count": 93,
   "metadata": {
    "scrolled": true
   },
   "outputs": [
    {
     "name": "stdout",
     "output_type": "stream",
     "text": [
      "painted the sockets in the wall dull green. the child crawled into the dense grass. bribes failed we're honest men work. trample the spark else the flames will spread. the hilt of the sword was carved with find designs a round hole was drilled through the thin board. footprints showed the path he took up the beach. she was waiting at my front lawn. event near the edge brought in fresh err. prod to the old mule with a crooked stick.\n"
     ]
    }
   ],
   "source": [
    "#\n",
    "# read audio file\n",
    "#\n",
    "def query_watson_stt(audio_file_path):\n",
    "    # init client\n",
    "    api_key = 'dsc9p5YcmgSC7w93vadmN9QtHJpBNBmLbFtelcL5Fh3G'\n",
    "    end_point = 'https://stream.watsonplatform.net/speech-to-text/api'\n",
    "    authenticator = IAMAuthenticator(api_key)\n",
    "    stt = SpeechToTextV1(authenticator=authenticator)\n",
    "    stt.set_service_url(end_point)\n",
    "    with open(audio_file_path, \"rb\") as audio_file:\n",
    "        response = stt.recognize(\n",
    "            audio=audio_file,\n",
    "            model='en-US_NarrowbandModel',\n",
    "            profanity_filter=False,\n",
    "            max_alternatives=1,\n",
    "            split_transcript_at_phrase_end=False,\n",
    "            content_type='audio/wav',\n",
    "        ).get_result()\n",
    "\n",
    "    transcripts = [doc['alternatives'][0]['transcript'].strip() for doc in response['results']]\n",
    "    return '. '.join(transcripts) + '.'\n",
    "    \n",
    "print(query_watson_stt(\"data/sample_speech.wav\"))       "
   ]
  },
  {
   "cell_type": "code",
   "execution_count": 38,
   "metadata": {},
   "outputs": [
    {
     "data": {
      "text/plain": [
       "\"painted the sockets in the wall dull green. the child crawled into the dense grass. bribes failed we're honest men work. trample the spark else the flames will spread. the hilt of the sword was carved with find designs a round hole was drilled through the thin board. footprints showed the path he took up the beach. she was waiting at my front lawn. event near the edge brought in fresh err. prod to the old mule with a crooked stick.\""
      ]
     },
     "execution_count": 38,
     "metadata": {},
     "output_type": "execute_result"
    }
   ],
   "source": [
    "#\n",
    "# simple result formatter\n",
    "#\n",
    "def simple_result_formatter(response):\n",
    "    transcripts = [doc['alternatives'][0]['transcript'].strip() for doc in response['results']]\n",
    "    return '. '.join(transcripts) + '.'\n",
    "\n",
    "simple_result_formatter(result)    "
   ]
  },
  {
   "cell_type": "markdown",
   "metadata": {},
   "source": [
    "### pySpark Transformer\n",
    "define custome pySpark transformer"
   ]
  },
  {
   "cell_type": "code",
   "execution_count": 106,
   "metadata": {},
   "outputs": [],
   "source": [
    "import string\n",
    "import random\n",
    "import pandas as pd\n",
    "from pyspark.sql import SparkSession\n",
    "from pyspark import SparkContext\n",
    "from pyspark.sql import functions as F\n",
    "from pyspark.sql.types import StringType\n",
    "from pyspark.sql import DataFrame\n",
    "from pyspark import keyword_only\n",
    "from pyspark.ml.pipeline import Transformer\n",
    "from pyspark.ml.param.shared import HasInputCol, HasOutputCol, Param\n",
    "from matplotlib import pyplot as plt"
   ]
  },
  {
   "cell_type": "code",
   "execution_count": null,
   "metadata": {},
   "outputs": [],
   "source": [
    "sc = SparkContext()"
   ]
  },
  {
   "cell_type": "code",
   "execution_count": 97,
   "metadata": {},
   "outputs": [],
   "source": [
    "class WatsonSTT(Transformer):\n",
    "    \n",
    "    @keyword_only\n",
    "    def __init__(self):\n",
    "        super(WatsonSTT, self).__init__()    \n",
    "\n",
    "    def _transform(self, df:DataFrame) -> DataFrame:\n",
    "        stt_udf = F.udf(query_watson_stt, StringType())\n",
    "        df = df.withColumn(\"audio_file_path\", F.concat(F.lit('data/'), F.col(\"audio_file\")))  \n",
    "        df = df.withColumn(\"transcripts\", stt_udf(F.col(\"audio_file_path\")))\n",
    "        return df\n"
   ]
  },
  {
   "cell_type": "code",
   "execution_count": 124,
   "metadata": {},
   "outputs": [
    {
     "data": {
      "text/plain": [
       "3"
      ]
     },
     "execution_count": 124,
     "metadata": {},
     "output_type": "execute_result"
    }
   ],
   "source": [
    "#\n",
    "# build test dataframe\n",
    "#\n",
    "from pyspark.sql import SQLContext\n",
    "sqlContext = SQLContext(sc)\n",
    "\n",
    "def fake_df(rows=10, num_partitions=10):\n",
    "    df = pd.DataFrame({'audio_file': ['sample_speech.wav']*rows})\n",
    "    df = sqlContext.createDataFrame(df)\n",
    "    df = df.repartition(num_partitions)\n",
    "    return df\n",
    "\n",
    "foo = fake_df(30)\n",
    "foo.rdd.getNumPartitions()"
   ]
  },
  {
   "cell_type": "code",
   "execution_count": 125,
   "metadata": {},
   "outputs": [],
   "source": [
    "#\n",
    "# test run transformer\n",
    "#\n",
    "def test_unit(row_count):\n",
    "    df = fake_df(row_count)\n",
    "    stt = WatsonSTT()\n",
    "    df2 = stt.transform(df)\n",
    "    df2.show(3)"
   ]
  },
  {
   "cell_type": "code",
   "execution_count": 126,
   "metadata": {},
   "outputs": [
    {
     "name": "stdout",
     "output_type": "stream",
     "text": [
      "+-----------------+--------------------+--------------------+\n",
      "|       audio_file|     audio_file_path|         transcripts|\n",
      "+-----------------+--------------------+--------------------+\n",
      "|sample_speech.wav|data/sample_speec...|painted the socke...|\n",
      "|sample_speech.wav|data/sample_speec...|painted the socke...|\n",
      "|sample_speech.wav|data/sample_speec...|painted the socke...|\n",
      "+-----------------+--------------------+--------------------+\n",
      "only showing top 3 rows\n",
      "\n"
     ]
    },
    {
     "data": {
      "text/plain": [
       "[<matplotlib.lines.Line2D at 0x117885390>]"
      ]
     },
     "execution_count": 126,
     "metadata": {},
     "output_type": "execute_result"
    },
    {
     "data": {
      "image/png": "[encoded data removed]",
      "text/plain": [
       "<Figure size 432x288 with 1 Axes>"
      ]
     },
     "metadata": {
      "needs_background": "light"
     },
     "output_type": "display_data"
    }
   ],
   "source": [
    "import time\n",
    "size = [20]\n",
    "time_ellapse = []\n",
    "\n",
    "# run the experiment\n",
    "for s in size:\n",
    "    start = time.perf_counter()\n",
    "    test_unit(s)\n",
    "    delta = time.perf_counter() - start\n",
    "    time_ellapse.append(delta)\n",
    "    \n",
    "\n",
    "# plot the result\n",
    "plt.plot(size, time_ellapse)"
   ]
  },
  {
   "cell_type": "code",
   "execution_count": null,
   "metadata": {},
   "outputs": [],
   "source": []
  }
 ],
 "metadata": {
  "kernelspec": {
   "display_name": "Python 3",
   "language": "python",
   "name": "python3"
  },
  "language_info": {
   "codemirror_mode": {
    "name": "ipython",
    "version": 3
   },
   "file_extension": ".py",
   "mimetype": "text/x-python",
   "name": "python",
   "nbconvert_exporter": "python",
   "pygments_lexer": "ipython3",
   "version": "3.7.2"
  }
 },
 "nbformat": 4,
 "nbformat_minor": 2
}
